{
 "cells": [
  {
   "cell_type": "code",
   "execution_count": 2,
   "metadata": {},
   "outputs": [
    {
     "name": "stdout",
     "output_type": "stream",
     "text": [
      "17\n",
      "17.0\n",
      "17\n"
     ]
    }
   ],
   "source": [
    "# this function converts the number in integer then in float and then in string.\n",
    "number=17\n",
    "print(int(number))\n",
    "print(float(number))\n",
    "print(str(number))"
   ]
  },
  {
   "cell_type": "code",
   "execution_count": 4,
   "metadata": {},
   "outputs": [
    {
     "name": "stdout",
     "output_type": "stream",
     "text": [
      "22\n",
      "22\n"
     ]
    }
   ],
   "source": [
    "# abs function in python will always give absolute value of an integer.\n",
    "number1=22\n",
    "print(abs(number1))\n",
    "number2=-22\n",
    "print(abs(number2))"
   ]
  },
  {
   "cell_type": "code",
   "execution_count": 6,
   "metadata": {},
   "outputs": [
    {
     "name": "stdout",
     "output_type": "stream",
     "text": [
      "3\n",
      "5\n",
      "2\n"
     ]
    }
   ],
   "source": [
    "# round function in python is used to round off the given value till the point.\n",
    "number1=3.1428\n",
    "print(round(number1))\n",
    "number2=4.6983\n",
    "print(round(number2))\n",
    "number3=1.9991\n",
    "print(round(number3))"
   ]
  },
  {
   "cell_type": "code",
   "execution_count": 11,
   "metadata": {},
   "outputs": [
    {
     "name": "stdout",
     "output_type": "stream",
     "text": [
      "Enter number 1:2\n",
      "Enter number 2:4\n",
      "Enter number 3:6\n",
      "Product = 48\n"
     ]
    }
   ],
   "source": [
    "# input funtion of python is used to take input from the user.\n",
    "number1=int(input(\"Enter number 1:\"))\n",
    "number2=int(input(\"Enter number 2:\"))\n",
    "number3=int(input(\"Enter number 3:\"))\n",
    "product=number1*number2*number3\n",
    "print(\"Product =\",product)"
   ]
  },
  {
   "cell_type": "code",
   "execution_count": 10,
   "metadata": {},
   "outputs": [
    {
     "name": "stdout",
     "output_type": "stream",
     "text": [
      "6\n",
      "5\n",
      "10\n",
      "9\n"
     ]
    }
   ],
   "source": [
    "#ceiling and floor function in python also used to round off the real number.\n",
    "# Ceiling function gives the smallest integer greater than or equal to the value.\n",
    "# Floor function gives the greatest integer smaller than or equal to the value.\n",
    "number1=5.6\n",
    "number2=9.9\n",
    "import math\n",
    "print(math.ceil(number1))\n",
    "print(math.floor(number1))\n",
    "print(math.ceil(number2))\n",
    "print(math.floor(number2))"
   ]
  }
 ],
 "metadata": {
  "kernelspec": {
   "display_name": "Python 3",
   "language": "python",
   "name": "python3"
  },
  "language_info": {
   "codemirror_mode": {
    "name": "ipython",
    "version": 3
   },
   "file_extension": ".py",
   "mimetype": "text/x-python",
   "name": "python",
   "nbconvert_exporter": "python",
   "pygments_lexer": "ipython3",
   "version": "3.7.3"
  }
 },
 "nbformat": 4,
 "nbformat_minor": 2
}
